{
  "nbformat": 4,
  "nbformat_minor": 0,
  "metadata": {
    "colab": {
      "provenance": [],
      "collapsed_sections": []
    },
    "kernelspec": {
      "name": "python3",
      "display_name": "Python 3"
    },
    "language_info": {
      "name": "python"
    }
  },
  "cells": [
    {
      "cell_type": "markdown",
      "source": [
        "***`Q1.`*** Why do we call Python as a general purpose and high-level programming language?\n",
        "\n",
        "*`Answer`*: Python is a general-purpose language since it is used to create a variety of different programs and isn't specialized for any specific problems."
      ],
      "metadata": {
        "id": "5pZdhGtvmFpv"
      }
    },
    {
      "cell_type": "markdown",
      "source": [
        "***`Q2.`*** Why is Python called a dynamically typed language?\n",
        "\n",
        "*`Answer`*: Python is a dynamically typed language beause we don't need to declare datatype of variable in python. Python interpriter dynamically assumes datatype of variable based on values assigned."
      ],
      "metadata": {
        "id": "fBg_TYBHkmdW"
      }
    },
    {
      "cell_type": "code",
      "source": [
        "value1 = '123'\n",
        "value2 = 123\n",
        "print(\"Value1 is {}\".format(type(value1)))\n",
        "print(\"Value2 is {}\".format(type(value2)))"
      ],
      "metadata": {
        "colab": {
          "base_uri": "https://localhost:8080/"
        },
        "id": "Mr8vPhRFlv4h",
        "outputId": "85e01687-1123-46be-f7e6-dbb80307bfb0"
      },
      "execution_count": 29,
      "outputs": [
        {
          "output_type": "stream",
          "name": "stdout",
          "text": [
            "Value1 is <class 'str'>\n",
            "Value2 is <class 'int'>\n"
          ]
        }
      ]
    },
    {
      "cell_type": "markdown",
      "source": [
        "***`Q3.`*** List some pros and cons of Python programming language?\n",
        "\n",
        "*`Answer`*:\n",
        "- pros: Easy to learn, high level programming language, extensive library support.\n",
        "- cons: Slower than compiled languages, interpriter takes lot of space."
      ],
      "metadata": {
        "id": "hPMSwb6wjy1u"
      }
    },
    {
      "cell_type": "markdown",
      "source": [
        "***`Q4.`*** In what all domains can we use Python?\n",
        "\n",
        "*`Answer`*: Python is general purpose programing language used in all domain such as web development, data engineering, Machine Learning etc."
      ],
      "metadata": {
        "id": "JBJExrUDjWQm"
      }
    },
    {
      "cell_type": "markdown",
      "source": [
        "***`Q5.`*** What are variable and how can we declare them?\n",
        "\n",
        "*`Answer`*: Variable are spaces used to store data value in memory spaces."
      ],
      "metadata": {
        "id": "apLZkItzi1qy"
      }
    },
    {
      "cell_type": "markdown",
      "source": [
        "***`Q6.`*** How can we take an input from the user in Python?"
      ],
      "metadata": {
        "id": "lKGXHTs0idPu"
      }
    },
    {
      "cell_type": "code",
      "source": [
        "name = input(\"Input \")"
      ],
      "metadata": {
        "colab": {
          "base_uri": "https://localhost:8080/"
        },
        "id": "02plL_0lih7I",
        "outputId": "61fdc32b-cf03-43d4-9c5b-26893fbc5f52"
      },
      "execution_count": 28,
      "outputs": [
        {
          "name": "stdout",
          "output_type": "stream",
          "text": [
            "Input 12\n"
          ]
        }
      ]
    },
    {
      "cell_type": "markdown",
      "source": [
        "***`Q7.`*** What is the default datatype of the value that has been taken as an input using input() function?\n",
        "\n",
        "*`Answer`*: input() gives value of String(<class 'str'>) datatype. "
      ],
      "metadata": {
        "id": "woNz1N6RiDO4"
      }
    },
    {
      "cell_type": "markdown",
      "source": [
        "***`Q8.`*** What is type casting?\n",
        "\n",
        "*`Answer`*: Type casting is a way by using which we can convert one datatype to another."
      ],
      "metadata": {
        "id": "62kr2K7tg7TI"
      }
    },
    {
      "cell_type": "code",
      "source": [
        "num = '253'\n",
        "print(type(num))\n",
        "\n",
        "num_typeCast = int(num)\n",
        "print(type(num_typeCast))"
      ],
      "metadata": {
        "colab": {
          "base_uri": "https://localhost:8080/"
        },
        "id": "1qZg-w98hmFl",
        "outputId": "5c6b7a1b-2a48-436c-ca91-6987eb832ba0"
      },
      "execution_count": 26,
      "outputs": [
        {
          "output_type": "stream",
          "name": "stdout",
          "text": [
            "<class 'str'>\n",
            "<class 'int'>\n"
          ]
        }
      ]
    },
    {
      "cell_type": "markdown",
      "source": [
        "***`Q9.`*** Can we take more than one input from the user using single input() function? If yes, how? If no, why?\n",
        "\n",
        "*`Answer`*: Single input() function can take more that one input using map() and split() function."
      ],
      "metadata": {
        "id": "MI2M4bq4fhNv"
      }
    },
    {
      "cell_type": "code",
      "source": [
        "x, y = map(int,input(\"Enter the number: \").split(\" \"))\n",
        "print(\"{} + {} = \".format(x,y) ,x+y)"
      ],
      "metadata": {
        "colab": {
          "base_uri": "https://localhost:8080/"
        },
        "id": "H_er3gzTgPO4",
        "outputId": "eff4a480-b6ed-42fa-b33c-7b2ec643fd3c"
      },
      "execution_count": 25,
      "outputs": [
        {
          "output_type": "stream",
          "name": "stdout",
          "text": [
            "Enter the number: 23 98\n",
            "23 + 98 =  121\n"
          ]
        }
      ]
    },
    {
      "cell_type": "markdown",
      "source": [
        "***`Q10.`*** What are keywords?\n",
        "\n",
        "*`Answer`*: Keyword are predifined and reserved words used by python"
      ],
      "metadata": {
        "id": "IAxdVU7qev8J"
      }
    },
    {
      "cell_type": "markdown",
      "source": [
        "***`Q11.`*** Can we use keywords as a variable? Support your answer with reason.\n",
        "\n",
        "*`Answer`*: We can not use keywords as a variable because it is predifined and reserved words used by python. If we use keyword as variable then python interpreter will throug error."
      ],
      "metadata": {
        "id": "AoTW3y4AeJ33"
      }
    },
    {
      "cell_type": "markdown",
      "source": [
        "***`Q12.`*** What is indentation? What's the use of indentation in Python?\n",
        "\n",
        "*`Answer`*: space before a statement to a particular block of code. Without proper indentation we will get indentation error."
      ],
      "metadata": {
        "id": "KedEDQKFdmj3"
      }
    },
    {
      "cell_type": "markdown",
      "source": [
        "***`Q13`***. How can we throw some output in Python?\n",
        "\n",
        "*`Answer`*: Using *Print()* keyword."
      ],
      "metadata": {
        "id": "2WhbG9KhdUOP"
      }
    },
    {
      "cell_type": "markdown",
      "source": [
        "***`Q14.`*** What are operators in Python?\n",
        "\n",
        "*`Answer`*: Operators in python are used for operations between two values or variables. The output varies according to the type of operator used in the operation."
      ],
      "metadata": {
        "id": "0FGd4MonbomW"
      }
    },
    {
      "cell_type": "markdown",
      "source": [
        "***`Q15`.*** What is difference between / and // operators?\n",
        "\n",
        "*`Answer`:* \"//\" returns **floar integer** value but \"/\" return **Exact float** value."
      ],
      "metadata": {
        "id": "wGF_j4FNaqO_"
      }
    },
    {
      "cell_type": "code",
      "source": [
        "print(\"27 // 5 : {}\".format(27 // 5))\n",
        "print(\"27 / 5 : {}\".format(27 / 5))"
      ],
      "metadata": {
        "colab": {
          "base_uri": "https://localhost:8080/"
        },
        "id": "ibLetlXEbU3J",
        "outputId": "90921266-1e77-4b1d-92df-52d2e3b7c51b"
      },
      "execution_count": 21,
      "outputs": [
        {
          "output_type": "stream",
          "name": "stdout",
          "text": [
            "27 // 5 : 5\n",
            "27 / 5 : 5.4\n"
          ]
        }
      ]
    },
    {
      "cell_type": "markdown",
      "source": [
        "***`Q16`.*** Write a code that gives following as an output.\n",
        "- iNeuroniNeuroniNeuroniNeuron"
      ],
      "metadata": {
        "id": "4mZkU_CHaZv6"
      }
    },
    {
      "cell_type": "code",
      "source": [
        "print(\"iNeuron\"*4)"
      ],
      "metadata": {
        "colab": {
          "base_uri": "https://localhost:8080/"
        },
        "id": "TPvxbOEuafI4",
        "outputId": "d59a1b89-68e6-4b9f-9626-a82d97f212ba"
      },
      "execution_count": 19,
      "outputs": [
        {
          "output_type": "stream",
          "name": "stdout",
          "text": [
            "iNeuroniNeuroniNeuroniNeuron\n"
          ]
        }
      ]
    },
    {
      "cell_type": "markdown",
      "source": [
        "***`Q17`.*** Write a code to take a number as an input from the user and check if the number is odd or even."
      ],
      "metadata": {
        "id": "DE0yx6pjZy0s"
      }
    },
    {
      "cell_type": "code",
      "source": [
        "num = int(input(\"Enter the number: \"))\n",
        "\n",
        "if num&1:\n",
        "  print(\"{} is Odd\".format(num))\n",
        "else:\n",
        "  print(\"{} is Even\".format(num))"
      ],
      "metadata": {
        "colab": {
          "base_uri": "https://localhost:8080/"
        },
        "id": "LgUT_LN8Z5ZP",
        "outputId": "97ae2574-d144-424d-ea1d-4d72007a6d4f"
      },
      "execution_count": 18,
      "outputs": [
        {
          "output_type": "stream",
          "name": "stdout",
          "text": [
            "Enter the number: 27\n",
            "27 is Odd\n"
          ]
        }
      ]
    },
    {
      "cell_type": "markdown",
      "source": [
        "***`Q18`.*** What are boolean operator?\n",
        "\n",
        "***`Answer`:*** The logical operators *and*, *or* and *not* are also referred to as boolean operators.\n"
      ],
      "metadata": {
        "id": "HqRuaACyY4AP"
      }
    },
    {
      "cell_type": "markdown",
      "source": [
        "***`Q19`.*** What will the output of the following?\n",
        "- 1 or 0 : ***1***\n",
        "- 0 and 0 : ***0***\n",
        "- True and False and True : ***False***\n",
        "- 1 or 0 or 0 : ***1***"
      ],
      "metadata": {
        "id": "ejOBzQwNYUmL"
      }
    },
    {
      "cell_type": "markdown",
      "source": [
        "***`Q20`.*** What are conditional statements in Python?\n",
        "\n",
        "***`Answer`***: It is used to makes a decision based on whether the condition is true or not."
      ],
      "metadata": {
        "id": "CDmIOdgvX_be"
      }
    },
    {
      "cell_type": "markdown",
      "source": [
        "***`Q21`.*** What is use of 'if', 'elif' and 'else' keywords?\n",
        "\n",
        "***`Answer`***: if, elif, else are conditional statement. It is used to makes a decision based on whether the condition is true or not.\n",
        "- If *condition*\n",
        "  \n",
        "  elif *condition*\n",
        "\n",
        "  else"
      ],
      "metadata": {
        "id": "lco5htqlWL03"
      }
    },
    {
      "cell_type": "markdown",
      "source": [
        "***`Q22`***. Write a code to take the age of person as an input and if age >= 18 display \"I can vote\". If age is < 18 display \"I can't vote\"."
      ],
      "metadata": {
        "id": "JUdFGzgXVmJf"
      }
    },
    {
      "cell_type": "code",
      "source": [
        "age = int(input(\"Enter the age: \"))\n",
        "if age < 18:\n",
        "  print(\"I can't vote\")\n",
        "else:\n",
        "  print(\"I can vote\")"
      ],
      "metadata": {
        "colab": {
          "base_uri": "https://localhost:8080/"
        },
        "id": "gIBbZVJaVrCD",
        "outputId": "e167a452-061f-4d31-aa88-871d15d3ce2a"
      },
      "execution_count": 16,
      "outputs": [
        {
          "output_type": "stream",
          "name": "stdout",
          "text": [
            "Enter the age: 56\n",
            "I can vote\n"
          ]
        }
      ]
    },
    {
      "cell_type": "markdown",
      "source": [
        "***`Q23`.*** Write a code that displays the sum of all the even numbers from the given list.\n",
        "- numbers = [12, 75, 150, 180, 145, 525, 50]"
      ],
      "metadata": {
        "id": "Bnz1ArMMS3E4"
      }
    },
    {
      "cell_type": "code",
      "source": [
        "numbers = [12, 75, 150, 180, 145, 525, 50]\n",
        "\n",
        "sum = 0\n",
        "for i in numbers:\n",
        "  if i&1 == 0:\n",
        "    sum += i\n",
        "print(sum)"
      ],
      "metadata": {
        "colab": {
          "base_uri": "https://localhost:8080/"
        },
        "id": "ki41zVBATAfv",
        "outputId": "185c7e5b-8374-40c8-d6b0-f10f8f59cb56"
      },
      "execution_count": 15,
      "outputs": [
        {
          "output_type": "stream",
          "name": "stdout",
          "text": [
            "392\n"
          ]
        }
      ]
    },
    {
      "cell_type": "markdown",
      "source": [
        "***`Q24`***. Write a code to take 3 numbers as an input from the user and display the greatest no as output"
      ],
      "metadata": {
        "id": "v1yfUV4jPbBk"
      }
    },
    {
      "cell_type": "code",
      "source": [
        "num1 = int(input(\"Enter first number: \"))\n",
        "num2 = int(input(\"Enter second number: \"))\n",
        "num3 = int(input(\"Enter third number: \"))\n",
        "\n",
        "if num1 > num2:\n",
        "  if num3 > num1:\n",
        "    print(num3)\n",
        "  else:\n",
        "    print(num1)\n",
        "else:\n",
        "  if num3 > num2:\n",
        "    print(num3)\n",
        "  else:\n",
        "    print(num2)"
      ],
      "metadata": {
        "colab": {
          "base_uri": "https://localhost:8080/"
        },
        "id": "Dv43mN1yPuyt",
        "outputId": "ad8baa04-21b6-412c-e224-9acf1474ae82"
      },
      "execution_count": 9,
      "outputs": [
        {
          "output_type": "stream",
          "name": "stdout",
          "text": [
            "Enter first number: 6\n",
            "Enter second number: 6\n",
            "Enter third number: 9\n",
            "9\n"
          ]
        }
      ]
    },
    {
      "cell_type": "markdown",
      "source": [
        "***`Q25`***. Write a program to display only those numbers from a list that satisfy the following conditions\n",
        "- The number must be divisible by five\n",
        "- If the number is greater than 150, then skip it and move to the next number\n",
        "- If the number is greater than 500, then stop the loop\n",
        "- `numbers = [12, 75, 150, 180, 145, 525, 50]`"
      ],
      "metadata": {
        "id": "z3nBhkU9NDYP"
      }
    },
    {
      "cell_type": "code",
      "source": [
        "numbers = [12, 75, 150, 180, 145, 525, 50]\n",
        "\n",
        "for i in numbers:\n",
        "  if i <= 150 and i%5 == 0:\n",
        "    print(i)\n",
        "  elif i > 500:\n",
        "    break\n",
        "  "
      ],
      "metadata": {
        "colab": {
          "base_uri": "https://localhost:8080/"
        },
        "id": "6DegDx3DM3-p",
        "outputId": "91848955-ab15-4ce8-f28b-a47124971a5a"
      },
      "execution_count": 5,
      "outputs": [
        {
          "output_type": "stream",
          "name": "stdout",
          "text": [
            "75\n",
            "150\n",
            "50\n",
            "55\n",
            "145\n"
          ]
        }
      ]
    }
  ]
}